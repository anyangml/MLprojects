{
 "cells": [
  {
   "cell_type": "code",
   "execution_count": 1,
   "metadata": {},
   "outputs": [],
   "source": [
    "# maker sure all the packages are installed before running the notebook."
   ]
  },
  {
   "cell_type": "code",
   "execution_count": 2,
   "metadata": {},
   "outputs": [],
   "source": [
    "import pandas as pd\n",
    "import tabula\n",
    "from selenium import webdriver\n",
    "from selenium.webdriver.support.ui import WebDriverWait\n",
    "from selenium.webdriver.support import expected_conditions as EC\n",
    "from selenium.webdriver.support.select import Select\n",
    "import time\n",
    "import warnings\n",
    "import numpy as np\n",
    "import re\n",
    "import csv\n",
    "\n",
    "warnings.filterwarnings('ignore')"
   ]
  },
  {
   "cell_type": "code",
   "execution_count": 3,
   "metadata": {},
   "outputs": [],
   "source": [
    "class Datatool():\n",
    "    \n",
    "    def __int__(self):\n",
    "        pass\n",
    "    \n",
    "    def getId(self):\n",
    "        \"\"\"\n",
    "        This funciton scrapes all reportId from the crudemonitor database, \n",
    "                which will be used to collect data\n",
    "        Reture: List[str]\n",
    "        \"\"\"\n",
    "        reportId = []\n",
    "\n",
    "        driver = webdriver.Safari()\n",
    "        page = driver.get('https://crudemonitor.ca/library/')\n",
    "        crudes = Select(driver.find_element(\"xpath\",\"//select[contains(@name, 'crude')]\")).options\n",
    "\n",
    "        for i in range(1,2):\n",
    "            # item 23 does not exist.\n",
    "            if i != 23:\n",
    "                crudes[i].click()\n",
    "                time.sleep(5)\n",
    "                try:\n",
    "                    dates = Select(driver.find_element(\"xpath\",\"//select[contains(@name, 'date')]\")).options\n",
    "                    for date in dates[1:2]:\n",
    "                        reportId.append(date.get_attribute(\"value\"))\n",
    "                except:\n",
    "                    pass\n",
    "        return reportId\n",
    "    \n",
    "    def _saveId(self):\n",
    "        \"\"\"\n",
    "        This function saves the reportIds to a csv file for future use\n",
    "        \"\"\"\n",
    "        reprotIds = self.getId()\n",
    "        with open('reports.csv', 'w') as f:\n",
    "            for report in reportIds:\n",
    "                f.write(f\"{report}\\n\")\n",
    "                \n",
    "    def _parse(self, strId):\n",
    "        \"\"\"\n",
    "        This function parses the reportId\n",
    "        Return: str\n",
    "        \"\"\"\n",
    "        return re.findall(r'[A-Za-z]+|\\d+',strId)[0]\n",
    "    \n",
    "    def getTable(self, strId):\n",
    "        \"\"\"\n",
    "        This function use the reported Id to collect data from pdf links\n",
    "        Reture: List[DataFrame]\n",
    "        \"\"\"\n",
    "        shortId = self._parse(strId)\n",
    "        url = f'https://crudemonitor.ca/library/archives/batch/{shortId}/{strId}.pdf'\n",
    "\n",
    "        try:  \n",
    "            df = tabula.read_pdf(url, pages='all',multiple_tables=True)\n",
    "            # get first half of the distillation profile\n",
    "            distil = df[0].iloc[:,4:]\n",
    "\n",
    "            # get the second half of the distillation profile\n",
    "            temp = df[1].T.reset_index().T.iloc[:,3:8].dropna(thresh=3)\n",
    "            distil2 = temp.iloc[:11].iloc[:,:-1]\n",
    "            distil2.columns = distil.columns.tolist()\n",
    "            distil = distil.append(distil2, ignore_index=True)\n",
    "\n",
    "            # convert to float and filling missing values with 2000 \n",
    "            # (a temperature about 3 times higher than the end temperature)\n",
    "            distil.set_index('% Off', inplace = True)\n",
    "            distil = distil.applymap(lambda x: float(x) if x!='-' else 2000)\n",
    "\n",
    "            # get composition\n",
    "            comp = temp.iloc[11:17].drop(4,axis=1)\n",
    "            comp.columns = ['Composition','Obs','His','Std']\n",
    "            comp.set_index('Composition', inplace=True)\n",
    "\n",
    "            return [distil, comp]\n",
    "        \n",
    "        except:\n",
    "            return None\n",
    "        \n",
    "    def getData(self):\n",
    "        \"\"\"\n",
    "        This funtion convert all the data to np.array\n",
    "        \"\"\"\n",
    "        reports = []\n",
    "        with open(\"reportId.csv\", \"r\") as f:\n",
    "            reader = csv.reader(f)\n",
    "            for line in reader:\n",
    "                reports.append(line[0])\n",
    "            \n",
    "        X = []\n",
    "        y = []\n",
    "        i = 0\n",
    "        while len(X)<500:\n",
    "            report =  reports[i]\n",
    "            try:\n",
    "                res = self.getTable(report)\n",
    "                print(report, len(X))\n",
    "                if res and res[1]['His'].tolist()[0] != 'Past Avg':\n",
    "                    X.append(np.array(res[0].iloc[:-2,1].tolist()))\n",
    "                    y.append(np.array(res[1]['His'].tolist(),dtype = float))\n",
    "            except:\n",
    "                pass\n",
    "            i += 1\n",
    "        return np.array(X), np.array(y)\n",
    "        \n",
    "        \n"
   ]
  },
  {
   "cell_type": "markdown",
   "metadata": {},
   "source": [
    "The cell below performs the data collection and transformation. It will take time to collect the data.\n",
    "The data are stored in .csv files for easier access."
   ]
  },
  {
   "cell_type": "code",
   "execution_count": 4,
   "metadata": {},
   "outputs": [],
   "source": [
    "# data = Datatool()\n",
    "# X,y = data.getData()\n",
    "# np.savetxt('X.csv',X, delimiter=',')\n",
    "# np.savetxt('y.csv',y, delimiter=',')"
   ]
  },
  {
   "cell_type": "code",
   "execution_count": 5,
   "metadata": {},
   "outputs": [
    {
     "data": {
      "text/plain": [
       "(500, 22)"
      ]
     },
     "execution_count": 5,
     "metadata": {},
     "output_type": "execute_result"
    }
   ],
   "source": [
    "# if we only use the %off at [ 5, 10, 20, 30, 40, 50, 60, 70, 80, 90, 95, 99], the shape will be (500,12)\n",
    "X = np.loadtxt('X.csv', delimiter=\",\")\n",
    "X.shape"
   ]
  },
  {
   "cell_type": "code",
   "execution_count": 6,
   "metadata": {},
   "outputs": [
    {
     "data": {
      "text/plain": [
       "(500, 6)"
      ]
     },
     "execution_count": 6,
     "metadata": {},
     "output_type": "execute_result"
    }
   ],
   "source": [
    "y = np.loadtxt('y.csv', delimiter=\",\")\n",
    "y.shape"
   ]
  },
  {
   "cell_type": "code",
   "execution_count": 7,
   "metadata": {},
   "outputs": [],
   "source": [
    "from sklearn.model_selection import train_test_split\n",
    "from sklearn.metrics import mean_absolute_error\n",
    "from sklearn.linear_model import Lasso\n",
    "from sklearn.preprocessing import StandardScaler\n",
    "from tensorflow.keras.models import Sequential\n",
    "from tensorflow.keras.layers import Activation, Dense, Dropout\n",
    "from tensorflow.keras.optimizers import Adam\n",
    "import matplotlib.pyplot as plt"
   ]
  },
  {
   "cell_type": "code",
   "execution_count": 8,
   "metadata": {},
   "outputs": [],
   "source": [
    "X_train, X_test, y_train, y_test = train_test_split(X, y, test_size=0.15, random_state=42)"
   ]
  },
  {
   "cell_type": "markdown",
   "metadata": {},
   "source": [
    "#### Model A\n",
    "\n",
    "- First, create a model to predict crude oil compositon using distillation profile. In other words creat a linear model to map the dataset from (500,22) to (500,6).\n",
    "- Two different models are used, the regularized linear model (Lasso) and a five-layer neural network\n",
    "- Regularization and dropout layers are added to prevent overfitting.\n",
    "- MAE is used as the metric, and adam is the optimizer.\n",
    "- Both models were able to predict the composition fairly accurately, NN performs slightly better."
   ]
  },
  {
   "cell_type": "code",
   "execution_count": 9,
   "metadata": {},
   "outputs": [
    {
     "data": {
      "text/plain": [
       "Text(0.5, 0.04, 'Prediction')"
      ]
     },
     "execution_count": 9,
     "metadata": {},
     "output_type": "execute_result"
    },
    {
     "data": {
      "image/png": "[encoded data removed]",
      "text/plain": [
       "<Figure size 432x288 with 2 Axes>"
      ]
     },
     "metadata": {
      "needs_background": "light"
     },
     "output_type": "display_data"
    }
   ],
   "source": [
    "scalerA = StandardScaler()\n",
    "X_trainA = scalerA.fit_transform(X_train)\n",
    "X_testA = scalerA.transform(X_test)\n",
    "\n",
    "modelA_v1 = Lasso()\n",
    "\n",
    "modelA_v2 = Sequential()\n",
    "modelA_v2.add(Dense(64, kernel_initializer='normal',input_dim = X_train.shape[1], activation='relu'))\n",
    "# The Hidden Layers :\n",
    "modelA_v2.add(Dense(128, kernel_initializer='normal',activation='relu'))\n",
    "modelA_v2.add(Dropout(0.2))\n",
    "modelA_v2.add(Dense(128, kernel_initializer='normal',activation='relu'))\n",
    "modelA_v2.add(Dropout(0.2))\n",
    "modelA_v2.add(Dense(64, kernel_initializer='normal',activation='relu'))\n",
    "# The Output Layer :\n",
    "modelA_v2.add(Dense(y_train.shape[1], kernel_initializer='normal',activation='linear'))\n",
    "# Compile the network :\n",
    "modelA_v2.compile(loss='mean_absolute_error', optimizer='adam', metrics=['mean_absolute_error'])\n",
    "\n",
    "modelA_v1.fit(X_trainA,y_train)\n",
    "modelA_v2.fit(X_trainA,y_train, epochs=100, batch_size=32, verbose=0)\n",
    "\n",
    "\n",
    "fig, ax = plt.subplots(1,2, sharey=True, sharex=True)\n",
    "ax[0].plot(modelA_v1.predict(X_testA), y_test,'o')\n",
    "ax[0].plot(np.arange(0,40,1),np.arange(0,40,1),'-.')\n",
    "ax[1].plot(modelA_v2.predict(X_testA), y_test,'o')\n",
    "ax[1].plot(np.arange(0,40,1),np.arange(0,40,1),'-.')\n",
    "\n",
    "fig.text(0.04, 0.5, 'Ground truth', va='center', rotation='vertical')\n",
    "fig.text(0.5, 0.04,  'Prediction', ha='center')"
   ]
  },
  {
   "cell_type": "markdown",
   "metadata": {},
   "source": [
    "#### Model B\n",
    "\n",
    "- Now we create a model to predict crude oil distillation profile based on the calculated compositon. In other words creat a linear model to map the dataset from (500,6) back to (500,22).\n",
    "- It seems the NN model can provide good prediction when then temperature is below ~600 ˚C, above this temperature, because some crude oil stoped distilling and we used T=2000 to represent non-volatile. This caused the model to mispredict the distilling profile at higher temperatures.\n",
    "- Nonetheless, we can still use the NN model to estimate the boiling profile of the blend."
   ]
  },
  {
   "cell_type": "code",
   "execution_count": 10,
   "metadata": {
    "scrolled": true
   },
   "outputs": [
    {
     "data": {
      "text/plain": [
       "Text(0.5, 0.04, 'Prediction')"
      ]
     },
     "execution_count": 10,
     "metadata": {},
     "output_type": "execute_result"
    },
    {
     "data": {
      "image/png": "[encoded data removed]",
      "text/plain": [
       "<Figure size 432x288 with 2 Axes>"
      ]
     },
     "metadata": {
      "needs_background": "light"
     },
     "output_type": "display_data"
    }
   ],
   "source": [
    "scalerB = StandardScaler()\n",
    "X_trainB = scalerB.fit_transform(y_train)\n",
    "X_testB = scalerB.transform(y_test)\n",
    "\n",
    "modelB_v1 = Lasso()\n",
    "\n",
    "modelB_v2 = Sequential()\n",
    "modelB_v2.add(Dense(64, kernel_initializer='normal',input_dim = y_train.shape[1], activation='relu'))\n",
    "# The Hidden Layers :\n",
    "modelB_v2.add(Dense(128, kernel_initializer='normal',activation='relu'))\n",
    "modelB_v2.add(Dropout(0.2))\n",
    "modelB_v2.add(Dense(128, kernel_initializer='normal',activation='relu'))\n",
    "modelB_v2.add(Dropout(0.2))\n",
    "modelB_v2.add(Dense(64, kernel_initializer='normal',activation='relu'))\n",
    "# The Output Layer :\n",
    "modelB_v2.add(Dense(X_train.shape[1], kernel_initializer='normal',activation='linear'))\n",
    "# Compile the network :\n",
    "modelB_v2.compile(loss='mean_absolute_error', optimizer='adam', metrics=['mean_absolute_error'])\n",
    "\n",
    "modelB_v1.fit(X_trainB,X_train)\n",
    "modelB_v2.fit(X_trainB,X_train, epochs=100, batch_size=32, verbose=0)\n",
    "\n",
    "\n",
    "fig, ax = plt.subplots(1,2, sharey=True, sharex=True)\n",
    "ax[0].plot(modelB_v1.predict(X_testB), X_test,'o')\n",
    "ax[0].plot(np.arange(0,2000,1),np.arange(0,2000,1),'-.')\n",
    "ax[1].plot(modelB_v2.predict(X_testB), X_test,'o')\n",
    "ax[1].plot(np.arange(0,2000,1),np.arange(0,2000,1),'-.')\n",
    "\n",
    "fig.text(0.02, 0.5, 'Ground truth', va='center', rotation='vertical')\n",
    "fig.text(0.5, 0.04,  'Prediction', ha='center')"
   ]
  },
  {
   "cell_type": "markdown",
   "metadata": {},
   "source": [
    "#### Put it all together\n",
    "\n",
    "- Our input will be two arrays of floats (1,22) or (1,12) depending on the distillation profiled used. For simplicity, I will keep using (1,22). *__change the getTable method in the Datatool class in order to use (1,12)__*. We used ModelA to map two (1,22) arrays to two (1,6) arrays to get the corresponding compositions of the starting crude oils. \n",
    "- Once we have the estimated compositions, we can calculated the compositon of the blend using the blending factor.\n",
    "- Then, we use ModelB to map the calculated blend composition (1,6) back to distillation profile (1,22)\n",
    "- Cutoff. As can be seen from the figure above, if the temperature is > 1000 ˚C, the blend can be considered as non-volatile.\n",
    "\n",
    "Below is an example using data from Crude Moniter data\n",
    "    A is BG past Avg(Feb 04, 2008), B is AWB past Avg(Jun 29, 2010)\n",
    "- https://crudemonitor.ca/library/archives/batch/BG/BG080204.pdf\n",
    "- https://crudemonitor.ca/library/archives/batch/AWB/AWB100629.pdf\n",
    "- A: [28.0, 29.0, 52.7, 78.7, 95.9, 117.9, 139.9, 160.2, 182.4, 207.9, 235.7, 264.8, 294.2, 393.3, 432.0, 478.7, 545.2, 571.4, 619.2, 670.9, 685.2, 2000, 703.4, 7.42]\n",
    "- B: [34.2, 34.7, 46.8, 82.5, 139.5, 235.4, 306.0, 350.8, 390.0, 426.4, 461.2, 498.3, 538.6, 658.7, 685.7, 708.9, 719.0, 2000, 2000, 2000, 2000, 2000, 716.8, 21.23]\n",
    "    "
   ]
  },
  {
   "cell_type": "code",
   "execution_count": 11,
   "metadata": {},
   "outputs": [],
   "source": [
    "# predict composition using ModelA, Note 60% and 65% are not included.\n",
    "a = np.array([28.0, 29.0, 52.7, 78.7, 95.9, 117.9, 139.9, 160.2, 182.4, 207.9, 235.7, \n",
    "     264.8, 294.2, 393.3, 432.0, 478.7, 545.2, 571.4, 619.2, \n",
    "     670.9, 685.2, 2000]).reshape(1,22)\n",
    "b = np.array([34.2, 34.7, 46.8, 82.5, 139.5, 235.4, 306.0, 350.8, 390.0, 426.4, 461.2,\n",
    "     498.3, 538.6, 658.7, 685.7, 708.9, 719.0, 2000, 2000, 2000,\n",
    "     2000, 2000]).reshape(1,22)\n",
    "\n",
    "compA = modelA_v2.predict(scalerA.transform(a))\n",
    "compB = modelA_v2.predict(scalerA.transform(b))"
   ]
  },
  {
   "cell_type": "markdown",
   "metadata": {},
   "source": [
    "The real compositions from reprot are \n",
    "   - A: [3.9, 31.8, 16.6, 10.7, 24.9, 12.0]\n",
    "   - B: [0.7, 16.3, 6.9, 6.0, 28.4, 41.7]\n",
    "   \n",
    "Model Prediction\n",
    "\n",
    "   - A: [3.7, 31.0, 16.5, 11.0, 24.5, 11.6, "
   ]
  },
  {
   "cell_type": "code",
   "execution_count": 26,
   "metadata": {},
   "outputs": [
    {
     "data": {
      "text/plain": [
       "array([[ 3.6777358, 31.041422 , 16.545374 , 10.984558 , 24.545212 ,\n",
       "        11.615576 ]], dtype=float32)"
      ]
     },
     "execution_count": 26,
     "metadata": {},
     "output_type": "execute_result"
    }
   ],
   "source": [
    "compA"
   ]
  },
  {
   "cell_type": "code",
   "execution_count": 13,
   "metadata": {},
   "outputs": [
    {
     "data": {
      "text/plain": [
       "array([[ 0.5414856, 15.074337 ,  6.677154 ,  6.200453 , 29.426668 ,\n",
       "        40.399548 ]], dtype=float32)"
      ]
     },
     "execution_count": 13,
     "metadata": {},
     "output_type": "execute_result"
    }
   ],
   "source": [
    "compB"
   ]
  },
  {
   "cell_type": "code",
   "execution_count": 14,
   "metadata": {},
   "outputs": [
    {
     "data": {
      "text/plain": [
       "array([[ 3.0504858, 27.848005 , 14.571731 , 10.027737 , 25.521503 ,\n",
       "        17.37237  ]], dtype=float32)"
      ]
     },
     "execution_count": 14,
     "metadata": {},
     "output_type": "execute_result"
    }
   ],
   "source": [
    "# Calculate the blend composition using 0.3 A and 0.7 B\n",
    "blend = 0.8*compA + 0.2*compB\n",
    "blend"
   ]
  },
  {
   "cell_type": "code",
   "execution_count": 15,
   "metadata": {},
   "outputs": [],
   "source": [
    "# Now we use ModelB to predict the distillation profile of the blend\n",
    "profile = modelB_v2.predict(scalerB.transform(blend))\n",
    "finalProfile = [x if x<1000 else np.nan for x in profile[0]]"
   ]
  },
  {
   "cell_type": "code",
   "execution_count": 16,
   "metadata": {},
   "outputs": [
    {
     "data": {
      "text/plain": [
       "<matplotlib.legend.Legend at 0x7fa729dfe0d0>"
      ]
     },
     "execution_count": 16,
     "metadata": {},
     "output_type": "execute_result"
    },
    {
     "data": {
      "image/png": "[encoded data removed]",
      "text/plain": [
       "<Figure size 432x288 with 1 Axes>"
      ]
     },
     "metadata": {
      "needs_background": "light"
     },
     "output_type": "display_data"
    }
   ],
   "source": [
    "plt.plot([0, 0.05, 0.1, 0.2, 0.3, 0.4, 0.5, 0.6, 0.7, 0.8, 0.9, 0.95, 1],[29.24, 51.52, 79.46, 141.4, 198.32, 251.6, 311.5, 376.4, 446.38, 524.74, 619.2, 685.2, np.nan], 'o-')\n",
    "plt.plot([0, 0.01, 0.05,0.1,0.15,0.2,0.25,0.3,0.35,0.4,0.45,0.5,0.55,0.7,0.75,0.8,0.85,0.9,0.95,0.98,0.99,1],finalProfile, 'o-')\n",
    "plt.xlabel('% off')\n",
    "plt.ylabel('Temperature, ˚C')\n",
    "plt.legend(['rule-based','machine learning'])"
   ]
  },
  {
   "cell_type": "markdown",
   "metadata": {},
   "source": [
    "The shape of the machine learning prediction looks more promissing, we try to estimate the model error below by looking at the differences between ground truth values and prediction values."
   ]
  },
  {
   "cell_type": "code",
   "execution_count": 17,
   "metadata": {},
   "outputs": [
    {
     "data": {
      "text/plain": [
       "[2.68767333627492,\n",
       " 3.445382464293239,\n",
       " 19.983404883804315,\n",
       " 28.712370382173205,\n",
       " 30.10502164776045,\n",
       " 25.794937051208535,\n",
       " 25.146920199179913,\n",
       " 25.897464508183393,\n",
       " 25.73345241327163,\n",
       " 24.427222979827306,\n",
       " 22.48348222072557,\n",
       " 19.869175116466202,\n",
       " 18.062647868827323,\n",
       " 15.706295541292636,\n",
       " nan,\n",
       " nan,\n",
       " nan,\n",
       " nan,\n",
       " nan,\n",
       " nan,\n",
       " nan,\n",
       " nan]"
      ]
     },
     "execution_count": 17,
     "metadata": {},
     "output_type": "execute_result"
    }
   ],
   "source": [
    "x_total = scalerA.transform(X)\n",
    "predA = modelA_v2.predict(x_total)\n",
    "predB = modelB_v2.predict(scalerB.transform(predA))\n",
    "predB = np.vectorize(lambda x: x if x<1000 else np.nan)(predB)\n",
    "X = np.vectorize(lambda x: x if x<1000 else np.nan)(X)\n",
    "error = []\n",
    "for i in range(len(predB[0])):\n",
    "    error.append((predB-X)[:,i].std())\n",
    "error"
   ]
  },
  {
   "cell_type": "code",
   "execution_count": 18,
   "metadata": {},
   "outputs": [
    {
     "data": {
      "text/plain": [
       "[28.22507,\n",
       " 30.510489,\n",
       " 74.53479,\n",
       " 125.42563,\n",
       " 160.45396,\n",
       " 192.11787,\n",
       " 218.4734,\n",
       " 240.49405,\n",
       " 263.5954,\n",
       " 287.04825,\n",
       " 309.64847,\n",
       " 333.04193,\n",
       " 356.43518,\n",
       " 431.06354,\n",
       " 458.36417,\n",
       " 488.69385,\n",
       " 518.81085,\n",
       " 549.2564,\n",
       " 567.0789,\n",
       " 611.3895,\n",
       " 639.63513,\n",
       " nan]"
      ]
     },
     "execution_count": 18,
     "metadata": {},
     "output_type": "execute_result"
    }
   ],
   "source": [
    "finalProfile"
   ]
  },
  {
   "cell_type": "code",
   "execution_count": null,
   "metadata": {},
   "outputs": [],
   "source": []
  }
 ],
 "metadata": {
  "kernelspec": {
   "display_name": "Python 3",
   "language": "python",
   "name": "python3"
  },
  "language_info": {
   "codemirror_mode": {
    "name": "ipython",
    "version": 3
   },
   "file_extension": ".py",
   "mimetype": "text/x-python",
   "name": "python",
   "nbconvert_exporter": "python",
   "pygments_lexer": "ipython3",
   "version": "3.7.6"
  }
 },
 "nbformat": 4,
 "nbformat_minor": 4
}
